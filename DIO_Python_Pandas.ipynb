{
  "nbformat": 4,
  "nbformat_minor": 0,
  "metadata": {
    "colab": {
      "name": "DIO-Python-Pandas.ipynb",
      "provenance": [],
      "collapsed_sections": [],
      "authorship_tag": "ABX9TyOCL1kGPCwirbUDCQ+BI3N0",
      "include_colab_link": true
    },
    "kernelspec": {
      "name": "python3",
      "display_name": "Python 3"
    },
    "language_info": {
      "name": "python"
    }
  },
  "cells": [
    {
      "cell_type": "markdown",
      "metadata": {
        "id": "view-in-github",
        "colab_type": "text"
      },
      "source": [
        "<a href=\"https://colab.research.google.com/github/nobrelu/Python-Pandas/blob/main/DIO_Python_Pandas.ipynb\" target=\"_parent\"><img src=\"https://colab.research.google.com/assets/colab-badge.svg\" alt=\"Open In Colab\"/></a>"
      ]
    },
    {
      "cell_type": "markdown",
      "metadata": {
        "id": "Yk6Ru-5gpEmm"
      },
      "source": [
        "# Bootcamp Banco Carrefour Data Engineer 🏦\n",
        "\n",
        "Análise de dados com Python e Pandas\n",
        "\n",
        "\n",
        "O que será visto 📄\n",
        "\n",
        "\n",
        "Python Básico\n",
        "\n",
        "\n",
        "Estrutura de dados\n",
        "\n",
        "\n",
        "Introdução a Biblioteca Pandas\n",
        "\n",
        "\n",
        "Trabalhando com arquivos em Excel\n",
        "\n",
        "\n",
        "Trabalhando com Datas\n",
        "\n",
        "\n",
        "Visualização de dados\n",
        "\n",
        "\n",
        "Análise Exploratória de dados\n",
        "\n",
        "\n",
        "\n",
        "# Ferramentas Utilizadas 🔧\n",
        "Colab\n"
      ]
    },
    {
      "cell_type": "code",
      "metadata": {
        "id": "8qB31Cx1pAd9"
      },
      "source": [
        ""
      ],
      "execution_count": null,
      "outputs": []
    }
  ]
}