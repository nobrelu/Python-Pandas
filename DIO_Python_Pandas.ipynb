{
  "nbformat": 4,
  "nbformat_minor": 0,
  "metadata": {
    "colab": {
      "name": "DIO-Python-Pandas.ipynb",
      "provenance": [],
      "collapsed_sections": [],
      "authorship_tag": "ABX9TyMP3FSKHq6lE5Wngc84/TAQ"
    },
    "kernelspec": {
      "name": "python3",
      "display_name": "Python 3"
    },
    "language_info": {
      "name": "python"
    }
  },
  "cells": [
    {
      "cell_type": "markdown",
      "metadata": {
        "id": "Yk6Ru-5gpEmm"
      },
      "source": [
        "# Bootcamp Banco Carrefour Data Engineer 🏦\n",
        "\n",
        "Análise de dados com Python e Pandas\n",
        "\n",
        "\n",
        "O que será visto 📄\n",
        "\n",
        "\n",
        "Python Básico\n",
        "\n",
        "\n",
        "Estrutura de dados\n",
        "\n",
        "\n",
        "Introdução a Biblioteca Pandas\n",
        "\n",
        "\n",
        "Trabalhando com arquivos em Excel\n",
        "\n",
        "\n",
        "Trabalhando com Datas\n",
        "\n",
        "\n",
        "Visualização de dados\n",
        "\n",
        "\n",
        "Análise Exploratória de dados\n",
        "\n",
        "\n",
        "\n",
        "# Ferramentas Utilizadas 🔧\n",
        "Colab\n"
      ]
    },
    {
      "cell_type": "markdown",
      "metadata": {
        "id": "MkoEkLLWqfII"
      },
      "source": [
        "# O PROJETO É A AULA..."
      ]
    },
    {
      "cell_type": "code",
      "metadata": {
        "id": "8qB31Cx1pAd9"
      },
      "source": [
        ""
      ],
      "execution_count": null,
      "outputs": []
    }
  ]
}